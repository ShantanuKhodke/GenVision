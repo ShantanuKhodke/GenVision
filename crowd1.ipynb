{
  "nbformat": 4,
  "nbformat_minor": 0,
  "metadata": {
    "colab": {
      "provenance": [],
      "gpuType": "T4"
    },
    "kernelspec": {
      "name": "python3",
      "display_name": "Python 3"
    },
    "language_info": {
      "name": "python"
    },
    "accelerator": "GPU"
  },
  "cells": [
    {
      "cell_type": "code",
      "source": [
        "!pip install groq"
      ],
      "metadata": {
        "colab": {
          "base_uri": "https://localhost:8080/"
        },
        "id": "CUEmu2fd2qyz",
        "outputId": "96d4418f-a342-4ee3-b5d7-41d565f98431"
      },
      "execution_count": null,
      "outputs": [
        {
          "output_type": "stream",
          "name": "stdout",
          "text": [
            "Collecting groq\n",
            "  Downloading groq-0.18.0-py3-none-any.whl.metadata (14 kB)\n",
            "Requirement already satisfied: anyio<5,>=3.5.0 in /usr/local/lib/python3.11/dist-packages (from groq) (3.7.1)\n",
            "Requirement already satisfied: distro<2,>=1.7.0 in /usr/local/lib/python3.11/dist-packages (from groq) (1.9.0)\n",
            "Requirement already satisfied: httpx<1,>=0.23.0 in /usr/local/lib/python3.11/dist-packages (from groq) (0.28.1)\n",
            "Requirement already satisfied: pydantic<3,>=1.9.0 in /usr/local/lib/python3.11/dist-packages (from groq) (2.10.6)\n",
            "Requirement already satisfied: sniffio in /usr/local/lib/python3.11/dist-packages (from groq) (1.3.1)\n",
            "Requirement already satisfied: typing-extensions<5,>=4.10 in /usr/local/lib/python3.11/dist-packages (from groq) (4.12.2)\n",
            "Requirement already satisfied: idna>=2.8 in /usr/local/lib/python3.11/dist-packages (from anyio<5,>=3.5.0->groq) (3.10)\n",
            "Requirement already satisfied: certifi in /usr/local/lib/python3.11/dist-packages (from httpx<1,>=0.23.0->groq) (2025.1.31)\n",
            "Requirement already satisfied: httpcore==1.* in /usr/local/lib/python3.11/dist-packages (from httpx<1,>=0.23.0->groq) (1.0.7)\n",
            "Requirement already satisfied: h11<0.15,>=0.13 in /usr/local/lib/python3.11/dist-packages (from httpcore==1.*->httpx<1,>=0.23.0->groq) (0.14.0)\n",
            "Requirement already satisfied: annotated-types>=0.6.0 in /usr/local/lib/python3.11/dist-packages (from pydantic<3,>=1.9.0->groq) (0.7.0)\n",
            "Requirement already satisfied: pydantic-core==2.27.2 in /usr/local/lib/python3.11/dist-packages (from pydantic<3,>=1.9.0->groq) (2.27.2)\n",
            "Downloading groq-0.18.0-py3-none-any.whl (121 kB)\n",
            "\u001b[2K   \u001b[90m━━━━━━━━━━━━━━━━━━━━━━━━━━━━━━━━━━━━━━━━\u001b[0m \u001b[32m121.9/121.9 kB\u001b[0m \u001b[31m3.1 MB/s\u001b[0m eta \u001b[36m0:00:00\u001b[0m\n",
            "\u001b[?25hInstalling collected packages: groq\n",
            "Successfully installed groq-0.18.0\n"
          ]
        }
      ]
    },
    {
      "cell_type": "code",
      "source": [
        "# Image\n",
        "\n",
        "# import base64\n",
        "# import groq\n",
        "# from pathlib import Path\n",
        "\n",
        "# class CrowdImageStore:\n",
        "#     def __init__(self, groq_api_key: str):\n",
        "#         self.groq_client = groq.Client(api_key=groq_api_key)\n",
        "\n",
        "#     def describe_crowd(self, image_path: str) -> str:\n",
        "#         \"\"\"Analyzes a single image using LLaVA to detect overcrowding conditions.\"\"\"\n",
        "\n",
        "#         image_path = Path(image_path)\n",
        "#         if not image_path.exists():\n",
        "#             raise FileNotFoundError(f\"Image not found: {image_path}\")\n",
        "\n",
        "#         with open(image_path, \"rb\") as image_file:\n",
        "#             encoded_image = base64.b64encode(image_file.read()).decode('utf-8')\n",
        "\n",
        "#         content = [\n",
        "#             {\n",
        "#                 \"type\": \"text\",\n",
        "#                 \"text\": (\n",
        "#                     \"You are analyzing an image to assess crowd density and potential stampede risks. \"\n",
        "#                     \"Describe the number of people, their proximity to each other, and any signs of overcrowding. \"\n",
        "#                     \"Pay attention to entry/exit points, movement flow, visible congestion, and signs of panic. \"\n",
        "#                     \"Indicate if people are packed tightly, blocking pathways, or showing distress signals. \"\n",
        "#                     \"Mention any significant gathering patterns and whether the density appears unsafe.\"\n",
        "#                 )\n",
        "#             },\n",
        "#             {\n",
        "#                 \"type\": \"image_url\",\n",
        "#                 \"image_url\": {\n",
        "#                     \"url\": f\"data:image/jpeg;base64,{encoded_image}\"\n",
        "#                 }\n",
        "#             }\n",
        "#         ]\n",
        "\n",
        "#         completion = self.groq_client.chat.completions.create(\n",
        "#             model=\"llama-3.2-11b-vision-preview\",\n",
        "#             messages=[{\"role\": \"user\", \"content\": content}],\n",
        "#             temperature=0,\n",
        "#             max_tokens=1024,\n",
        "#             top_p=1,\n",
        "#             stream=False\n",
        "#         )\n",
        "\n",
        "#         return completion.choices[0].message.content\n",
        "\n"
      ],
      "metadata": {
        "id": "DgkLj8q20Sr3"
      },
      "execution_count": null,
      "outputs": []
    },
    {
      "cell_type": "code",
      "source": [
        "\n",
        "# # Initialize the store with your Groq API key\n",
        "# crowd_store = CrowdImageStore(groq_api_key=\"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\")\n",
        "\n",
        "# # Process a single image\n",
        "# image_path = \"/content/images/crowd2.jpg\"  # Replace with actual image path\n",
        "# description = crowd_store.describe_crowd(image_path)\n",
        "\n",
        "# # Print result\n",
        "# print(f\"Description: {description}\")\n",
        "# print(f\"Image path: {image_path}\")"
      ],
      "metadata": {
        "colab": {
          "base_uri": "https://localhost:8080/"
        },
        "id": "0RcQYm9p3Td9",
        "outputId": "ad2ee2bc-cbf3-475d-fe04-fb8503867e14"
      },
      "execution_count": null,
      "outputs": [
        {
          "output_type": "stream",
          "name": "stdout",
          "text": [
            "Description: The image depicts a large crowd of people walking in the same direction, with many individuals closely spaced. The crowd appears to be dense, with people packed tightly together, blocking pathways and creating a sense of congestion. Some individuals are walking in the same direction, while others are moving in different directions, creating a sense of movement flow. However, the crowd is not moving smoothly, with some areas appearing more congested than others.\n",
            "\n",
            "Upon closer inspection, it appears that the crowd is not showing any signs of panic or distress. There are no visible signs of people running or pushing, and the overall atmosphere seems calm. However, the density of the crowd does appear to be unsafe, particularly in areas where people are packed tightly together and blocking pathways. The lack of clear entry and exit points also adds to the sense of danger.\n",
            "\n",
            "Overall, the image suggests that the crowd density is high, and there is a risk of stampede or other safety issues. It is important to take steps to manage the crowd and ensure that everyone's safety is protected.\n",
            "Image path: /content/images/crowd2.jpg\n"
          ]
        }
      ]
    },
    {
      "cell_type": "code",
      "source": [],
      "metadata": {
        "id": "WHR1H1pg3beM"
      },
      "execution_count": null,
      "outputs": []
    },
    {
      "cell_type": "code",
      "source": [
        "# video\n",
        "\n",
        "import cv2\n",
        "import base64\n",
        "import groq\n",
        "from pathlib import Path\n",
        "\n",
        "class CrowdVideoAnalyzer:\n",
        "    def __init__(self, groq_api_key: str):\n",
        "        self.groq_client = groq.Client(api_key=groq_api_key)\n",
        "\n",
        "    def _describe_frame(self, frame) -> str:\n",
        "        \"\"\"Analyzes a single video frame for overcrowding using LLaVA.\"\"\"\n",
        "\n",
        "        _, buffer = cv2.imencode('.jpg', frame)\n",
        "        encoded_image = base64.b64encode(buffer).decode('utf-8')\n",
        "\n",
        "        content = [\n",
        "            {\n",
        "                \"type\": \"text\",\n",
        "                \"text\": (\n",
        "                    \"You are analyzing a frame from a surveillance video to detect crowd density and possible stampede risks. \"\n",
        "                    \"Describe the number of people, their proximity to each other, and any signs of overcrowding. \"\n",
        "                    \"Look for entry/exit points, movement flow, congestion, and signs of panic or distress. \"\n",
        "                    \"Mention if people are packed tightly, blocking pathways, or behaving abnormally.\"\n",
        "                )\n",
        "            },\n",
        "            {\n",
        "                \"type\": \"image_url\",\n",
        "                \"image_url\": {\n",
        "                    \"url\": f\"data:image/jpeg;base64,{encoded_image}\"\n",
        "                }\n",
        "            }\n",
        "        ]\n",
        "\n",
        "        completion = self.groq_client.chat.completions.create(\n",
        "            model=\"llama-3.2-11b-vision-preview\",\n",
        "            messages=[{\"role\": \"user\", \"content\": content}],\n",
        "            temperature=0,\n",
        "            max_tokens=1024,\n",
        "            top_p=1,\n",
        "            stream=False\n",
        "        )\n",
        "\n",
        "        return completion.choices[0].message.content\n",
        "\n",
        "    def analyze_video(self, video_path: str, frame_rate: int = 1):\n",
        "        \"\"\"Extracts frames from a video and detects overcrowding.\"\"\"\n",
        "\n",
        "        video_path = Path(video_path)\n",
        "        if not video_path.exists():\n",
        "            raise FileNotFoundError(f\"Video not found: {video_path}\")\n",
        "\n",
        "        cap = cv2.VideoCapture(str(video_path))\n",
        "        fps = int(cap.get(cv2.CAP_PROP_FPS))\n",
        "        frame_interval = max(1, fps // frame_rate)  # Extract frame at 1 or 2 FPS\n",
        "\n",
        "        frame_count = 0\n",
        "        results = []\n",
        "\n",
        "        while cap.isOpened():\n",
        "            ret, frame = cap.read()\n",
        "            if not ret:\n",
        "                break  # End of video\n",
        "\n",
        "            if frame_count % frame_interval == 0:  # Process only selected frames\n",
        "                description = self._describe_frame(frame)\n",
        "                results.append({\"frame_number\": frame_count, \"description\": description})\n",
        "\n",
        "            frame_count += 1\n",
        "\n",
        "        cap.release()\n",
        "        return results\n"
      ],
      "metadata": {
        "id": "dfM-jfpR5CW2"
      },
      "execution_count": null,
      "outputs": []
    },
    {
      "cell_type": "code",
      "source": [
        "\n",
        "# Initialize with your Groq API key\n",
        "video_analyzer = CrowdVideoAnalyzer(groq_api_key=\"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\")\n",
        "\n",
        "# Process video (adjust frame rate if needed)\n",
        "video_path = \"/content/Untitled video - Made with Clipchamp (7).mp4\"  # Replace with actual video path\n",
        "analysis_results = video_analyzer.analyze_video(video_path, frame_rate=1)\n",
        "\n",
        "# Print results\n",
        "for result in analysis_results:\n",
        "    print(f\"Frame {result['frame_number']}: {result['description']}\")\n"
      ],
      "metadata": {
        "colab": {
          "base_uri": "https://localhost:8080/"
        },
        "id": "k-QMZXFt5GvB",
        "outputId": "55422102-99a0-44b8-db6b-5a09679924ed"
      },
      "execution_count": null,
      "outputs": [
        {
          "output_type": "stream",
          "name": "stdout",
          "text": [
            "Frame 0: In this image, there are approximately 20 people walking in a group, with some individuals walking alone. The group is walking in a single file line, with some people walking closely together, while others are farther apart. There are no signs of overcrowding or congestion in the immediate area. The group is walking on a wide path, with some people walking on the grassy area to the right. There are no visible entry or exit points, but the group appears to be moving in a single direction. There are no signs of panic or distress among the group members. Overall, the crowd density appears to be low to moderate, with no signs of overcrowding or stampede risks.\n",
            "Frame 30: In this image, there are approximately 20 people visible in the frame, with a few more in the background. The people in the foreground are walking in a relatively straight line, with some individuals slightly closer to each other than others. However, there are no signs of overcrowding or congestion in the immediate area.\n",
            "\n",
            "Upon closer inspection, it appears that the people in the foreground are not packed tightly together, and there are no visible blockages or obstacles in the pathway. The movement flow seems to be relatively smooth, with people moving in a generally consistent direction.\n",
            "\n",
            "There are no apparent signs of panic or distress among the individuals in the image. They appear to be walking calmly and normally, without any visible signs of alarm or concern.\n",
            "\n",
            "Overall, based on the analysis of this frame, there does not appear to be any immediate risk of stampede or crowd density issues. The people in the image seem to be moving in a relatively orderly and calm manner, with no visible signs of overcrowding or panic.\n",
            "Frame 60: I'm not able to analyze a surveillance video or detect crowd density and possible stampede risks as I'm a text-based model and do not have the capability to access or process visual data. However, I can provide general information on how to assess crowd density and potential risks.\n",
            "\n",
            "To assess crowd density and potential risks, you would typically look for signs of overcrowding, such as people packed tightly together, blocking pathways, or behaving abnormally. You would also look for entry/exit points, movement flow, and signs of panic or distress. It's important to note that assessing crowd density and potential risks requires a human observer with the ability to interpret visual data, which I am not capable of doing. If you need to assess crowd density and potential risks, it's recommended to consult with a qualified expert or use specialized software designed for crowd analysis.\n",
            "Frame 90: In this image, there are approximately 20 people visible in the frame. The majority of them are walking in the same direction, with some individuals carrying backpacks or strollers. The people are relatively spread out, with a few exceptions where they are closer together. However, there are no signs of overcrowding or congestion in the immediate area. The pathway appears to be wide enough to accommodate the number of people present.\n",
            "\n",
            "There are no visible entry or exit points in the frame, as the people are all walking in the same direction. The movement flow appears to be smooth, with no signs of panic or distress. The people are not packed tightly together, and there are no visible signs of blocking pathways. Overall, the scene appears to be calm and orderly, with no indications of a potential stampede risk.\n",
            "Frame 120: In this image, there are approximately 20 people visible in the park, with some individuals walking alone and others in small groups. The majority of the people are walking in the same direction, with a few individuals walking in the opposite direction. There are no signs of overcrowding or congestion in the area. The people are not packed tightly together, and there are no blocked pathways. The movement flow appears to be normal, with people walking in a relatively orderly manner. There are no signs of panic or distress among the individuals in the image. Overall, the crowd density in this image is relatively low, and there are no indications of a potential stampede risk.\n",
            "Frame 150: In this image, there are approximately 20 people visible in the frame. The majority of them are walking in the same direction, with some individuals pushing strollers or carrying bags. The people are relatively spread out, with a few feet of space between each person. There are no signs of overcrowding or congestion in the immediate area. The path is clear, and there are no visible obstacles or barriers blocking the way. The people are moving in a relatively orderly fashion, with no signs of panic or distress. The atmosphere appears to be calm and relaxed, with no visible signs of abnormal behavior. Overall, the crowd density in this image is relatively low, and there are no apparent risks of stampedes or other safety concerns.\n",
            "Frame 180: In this image, there are approximately 20 people visible in the frame. The majority of them are walking in the same direction, with some carrying strollers or pushing children in wheelchairs. The people are spread out, with no visible signs of overcrowding or congestion. There are no visible entry or exit points in the frame, but the people appear to be moving in a single direction, suggesting that they may be following a path or a guide. There are no signs of panic or distress among the people in the frame. They seem to be moving calmly and orderly, with no visible signs of crowding or blocking pathways. Overall, the scene appears to be a peaceful and organized gathering of people, with no apparent risks of stampede or crowd-related incidents.\n",
            "Frame 210: In this image, there are approximately 20 people visible in the frame. The majority of them are walking in the same direction, with a few individuals pushing strollers or carrying children. The people are generally spread out, with some walking in small groups and others walking alone. There are no signs of overcrowding or congestion in the area. The people are not packed tightly together, and there are no blocked pathways or signs of panic or distress. The atmosphere appears to be calm and relaxed, with people moving freely and without any apparent issues.\n",
            "Frame 240: In this frame, the crowd appears to be densely packed, with people standing shoulder-to-shoulder in some areas. The proximity between individuals is relatively close, with some people touching or being very close to each other. There are no visible signs of overcrowding, such as people being crushed or pushed against each other. However, the crowd is moving slowly, and some people are stopping or pausing, which could indicate a potential risk of congestion.\n",
            "\n",
            "There are no visible entry/exit points in this frame, as the crowd appears to be moving in a single direction. The movement flow is relatively slow, with people moving in a steady stream. There are no signs of panic or distress, such as people running or screaming. However, some people appear to be looking around nervously, which could indicate a sense of unease or discomfort.\n",
            "\n",
            "Overall, while the crowd is densely packed, there are no obvious signs of overcrowding or panic. However, the slow movement and nervous behavior of some individuals suggest that the crowd may be at risk of becoming congested or experiencing a stampede. Further analysis of the surrounding frames and context would be necessary to fully assess the situation.\n",
            "Frame 270: In this frame, the crowd appears to be densely packed, with people standing shoulder-to-shoulder in some areas. The proximity between individuals is relatively close, with some people touching or being very close to each other. There are no visible signs of overcrowding, but the crowd is moving slowly and steadily, with some people stopping to look around or take photos.\n",
            "\n",
            "There are several entry and exit points visible in the frame, including a main street and several side streets. The movement flow appears to be relatively smooth, with people moving in different directions. However, there are some areas where the crowd is congested, particularly near the main street.\n",
            "\n",
            "There are no signs of panic or distress visible in the frame. People are generally moving calmly and slowly, and there are no visible signs of pushing or shoving. Overall, the crowd appears to be well-behaved and under control.\n",
            "\n",
            "It's worth noting that the image is slightly blurry, which may affect the accuracy of the analysis. Additionally, the frame may not capture the entire scene, so it's possible that there are other areas of the crowd that are more crowded or congested than what is visible in the frame.\n",
            "Frame 300: In this image, a large crowd of people is densely packed in a narrow street, with many individuals standing shoulder-to-shoulder. The crowd appears to be moving slowly, with some people walking in the same direction and others moving in different directions. There are no visible entry or exit points, and the crowd is blocking the entire street, making it difficult for people to move freely. Some individuals appear to be packed tightly together, while others are standing at a greater distance from each other. There are no signs of panic or distress visible in the image, and people seem to be moving calmly and slowly. Overall, the crowd density is high, and there is a risk of stampede if the crowd becomes more agitated or if someone tries to push their way through.\n",
            "Frame 330: In this image, a large crowd of people is densely packed in a narrow street, with many individuals standing shoulder-to-shoulder. The crowd appears to be moving in a single direction, with some people walking in the same direction as others, while others are moving in the opposite direction. The crowd is so dense that it is difficult to see individual faces or distinguish between different groups of people.\n",
            "\n",
            "The street is lined with buildings on either side, and there are several entry and exit points visible. However, the crowd is so dense that it is difficult to determine if there are any specific bottlenecks or congestion points. There do not appear to be any signs of panic or distress in the crowd, and people are generally moving in a calm and orderly manner.\n",
            "\n",
            "Overall, the image suggests that the crowd is quite dense and potentially at risk of stampeding, but there are no obvious signs of panic or distress. It would be important to continue monitoring the situation to ensure that the crowd remains safe and does not become more chaotic.\n",
            "Frame 360: Based on the image, I can analyze the crowd density and potential risks. The crowd appears to be densely packed, with people standing shoulder-to-shoulder in some areas. The proximity between individuals is relatively close, with some people touching or being very close to each other. There are no visible signs of overcrowding, but the crowd is moving slowly, which could indicate a potential risk of stampede if the crowd becomes agitated or panicked.\n",
            "\n",
            "Upon closer inspection, I notice that there are several entry and exit points visible in the image, but they appear to be congested. The movement flow of the crowd is slow and steady, with people moving in a generally forward direction. However, there are some areas where the crowd is blocked or congested, which could create a bottleneck effect and increase the risk of stampede.\n",
            "\n",
            "I do not observe any signs of panic or distress in the crowd, but it's important to note that this analysis is based on a single frame from a surveillance video and may not capture the full context of the situation. It's possible that the crowd may become more agitated or panicked if they are not allowed to move freely or if there are other factors at play that are not visible in this image.\n",
            "\n",
            "Overall, while the crowd appears to be densely packed, there are no obvious signs of overcrowding or panic. However, it's still important to exercise caution and monitor the situation closely to ensure the safety of all individuals in the crowd.\n",
            "Frame 390: In this image, a large crowd of people is densely packed in a narrow street, with many individuals standing shoulder-to-shoulder. The crowd appears to be moving slowly, with some people pushing and shoving to get through the narrow passage. The image shows a high level of crowding, with people packed tightly together, blocking pathways and creating a sense of congestion. Some individuals appear to be behaving abnormally, such as pushing and shoving, which could indicate signs of panic or distress. Overall, the image suggests a high risk of stampede due to the high crowd density and slow movement.\n",
            "Frame 420: In this image, a large crowd of people is densely packed in a narrow street, with many individuals standing shoulder-to-shoulder. The crowd appears to be moving slowly, with some people pushing and shoving to get through the narrow passage. The image shows a high level of crowding, with people packed tightly together, blocking pathways and creating a sense of congestion. Some individuals appear to be behaving abnormally, such as pushing and shoving, while others seem to be trying to get out of the way. The image suggests that the crowd is at risk of stampeding, with the potential for panic and distress if the situation escalates.\n",
            "Frame 450: In this frame, the crowd is densely packed, with people standing shoulder-to-shoulder, indicating a high level of crowding. The proximity between individuals is minimal, with no visible gaps or open spaces. The crowd appears to be moving in a single direction, with no visible entry or exit points. The movement flow is slow and congested, with people pushing and shoving to get through. There are no visible signs of panic or distress, but the crowd's behavior is abnormal, with people packed tightly together, blocking pathways and creating a sense of claustrophobia. Overall, the crowd density is extremely high, with people packed tightly together, creating a risk of stampede.\n",
            "Frame 480: Based on the image, I can observe that there is a large crowd of people walking down a street. The crowd appears to be dense, with people standing close together, but not packed tightly. There are no visible signs of overcrowding or congestion, and people seem to be moving in a relatively orderly fashion. I don't see any obvious entry or exit points, but the crowd appears to be flowing in a single direction. There are no signs of panic or distress visible in the image. Overall, the crowd appears to be moving safely and without any apparent issues.\n",
            "Frame 510: The image depicts a densely packed crowd of people walking down a street, with the majority of individuals facing forward. The crowd appears to be moving in a single direction, with some people walking closely together, while others maintain a safe distance. The street is narrow, with buildings lining both sides, and the crowd is concentrated in the center of the image.\n",
            "\n",
            "Upon closer inspection, it becomes apparent that the crowd is quite dense, with people packed tightly together in some areas. However, there are no visible signs of overcrowding or congestion, and the movement flow appears to be relatively smooth. There are no visible entry or exit points, and the crowd seems to be moving in a single direction.\n",
            "\n",
            "Despite the density of the crowd, there are no visible signs of panic or distress. People are not behaving abnormally, and there are no visible signs of stampede risks. The overall atmosphere appears to be calm and orderly, with people moving in a coordinated manner.\n",
            "\n",
            "In terms of crowd density, it is difficult to estimate the exact number of people in the image, but it appears to be a large crowd, possibly in the thousands. The proximity of people to each other varies, with some individuals walking closely together, while others maintain a safe distance. Overall, the image suggests a well-organized and calm crowd, with no visible signs of overcrowding or stampede risks.\n"
          ]
        }
      ]
    },
    {
      "cell_type": "code",
      "source": [],
      "metadata": {
        "id": "gc-akCfY5hcZ"
      },
      "execution_count": null,
      "outputs": []
    }
  ]
}